{
 "cells": [
  {
   "cell_type": "markdown",
   "metadata": {},
   "source": [
    "Wrapping the 2013 dataset data with `xarray`."
   ]
  },
  {
   "cell_type": "code",
   "execution_count": 7,
   "metadata": {},
   "outputs": [
    {
     "name": "stdout",
     "output_type": "stream",
     "text": [
      "Populating the interactive namespace from numpy and matplotlib\n"
     ]
    }
   ],
   "source": [
    "%matplotlib inline\n",
    "%pylab inline\n",
    "import collections, itertools, os\n",
    "import numpy as np\n",
    "import pandas as pd\n",
    "import xarray as xr\n",
    "import matplotlib.pyplot as plt"
   ]
  },
  {
   "cell_type": "code",
   "execution_count": 8,
   "metadata": {
    "collapsed": true
   },
   "outputs": [],
   "source": [
    "Recording = collections.namedtuple('Recording',['fn','df']) # filename and dataframe \n",
    "def load_data(dirpath):\n",
    "    dfs = []\n",
    "    for root, _, filenames in os.walk(dirpath):\n",
    "        for filename in filenames:\n",
    "            filepath = os.path.join(root,filename)\n",
    "            nxt = pd.read_csv(filepath,index_col=0,compression='gzip')\n",
    "            dfs.append(Recording(filename,nxt))\n",
    "    return dfs"
   ]
  },
  {
   "cell_type": "code",
   "execution_count": 9,
   "metadata": {
    "collapsed": true
   },
   "outputs": [],
   "source": [
    "# load all files from data_clean directory into a list of DataFrames\n",
    "data = load_data('../data_final')"
   ]
  },
  {
   "cell_type": "code",
   "execution_count": 10,
   "metadata": {
    "collapsed": true
   },
   "outputs": [],
   "source": [
    "#All data\n",
    "coords_2013 = np.array([\n",
    "    ['302', '303', '304', '305', '306', '307', '308', '309', '310', '312', '313', '314', '315', '316', '317', '318', '319', '320', '321', '322', '323', '324', '325', '326', '327', '328', '329', '330', '331'],\n",
    "    ['332', '333', '334', '335', '336', '337', '338', '339', '340', '341', '342', '343', '344', '345', '346', '347', '348', '349', '350', '351', '352', '353', '354', '355', '356', '357', '358', '359', '360'],\n",
    "    ['361', '362', '363', '364', '365', '366', '367', '368', '370', '372', '373', '374', '375', '376', '377', '378', '379', '380', '381', '382', '383', '384', '385', '386', '387', '388', '389', '390', '391'],\n",
    "    ['392', '393', '394', '395', '396', '397', '398', '399', '400', '401', '402', '403', '404', '405', '406', '407', '408', '409', '410', '411', '412', '413', '414', '415', '416', '417', '418', '419', '420'],\n",
    "    ['421', '422', '423', '424', '425', '426', '427', '428', '429', '430', '431', '432', '433', '434', '435', '436', '437', '438', '439', '440', '441', '442', '443', '444', '445', '446', '447', '448', '449'],\n",
    "    ['450', '451', '452', '453', '454', '455', '456', '457', '458', '459', '460', '461', '462', '463', '464', '465', '466', '467', '468', '469', '470', '471', '472', '473', '474', '475', '476', '477', '478']\n",
    "]).T\n",
    "#Keep only first three weeks with complete data for each rat\n",
    "coords_2013 = np.array([\n",
    "    ['304', '305', '306', '307', '308', '309', '310', '312', '313', '314', '315', '316', '317', '318', '319', '320', '321', '322', '323', '324', '325', '326', '327', '328', '329', '330'],\n",
    "    ['334', '335', '336', '337', '338', '339', '340', '341', '342', '343', '344', '345', '346', '347', '348', '349', '350', '351', '352', '353', '354', '355', '356', '357', '358', '359'],\n",
    "    ['363', '364', '365', '366', '367', '368', '370', '372', '373', '374', '375', '376', '377', '378', '379', '380', '381', '382', '383', '384', '385', '386', '387', '388', '389', '390']\n",
    "]).T"
   ]
  },
  {
   "cell_type": "code",
   "execution_count": 11,
   "metadata": {
    "collapsed": true
   },
   "outputs": [],
   "source": [
    "#Get 2013 data from data loaded\n",
    "data_2013 = [rec for rec in data if '2013' in rec.fn]\n",
    "#Prepare dimension labels\n",
    "rats = ['28', '29', '30', '31', '32', '33', '34', '35', '36', '37', '39', '40', '41', '42', '43', '44', '45', '46', '47', '48', '49', '50', '51', '52', '53', '54']\n",
    "sessions = [f'week{i+1}' for i in range(3)]\n",
    "times = pd.to_timedelta([t*40 for t in range(45001)],unit='ms')"
   ]
  },
  {
   "cell_type": "code",
   "execution_count": 94,
   "metadata": {},
   "outputs": [
    {
     "data": {
      "text/plain": [
       "866"
      ]
     },
     "execution_count": 94,
     "metadata": {},
     "output_type": "execute_result"
    }
   ],
   "source": [
    "r = []\n",
    "for x in x_data:\n",
    "    a = x.flatten()\n",
    "    mask = np.concatenate(([False],np.isnan(a),[False]))\n",
    "    if ~mask.any():\n",
    "        r.append(0)\n",
    "    else:\n",
    "        idx = np.nonzero(mask[1:] != mask[:-1])[0]\n",
    "        r.append((idx[1::2] - idx[::2]).max())\n",
    "r.remove(6534)\n",
    "max(r)"
   ]
  },
  {
   "cell_type": "code",
   "execution_count": 99,
   "metadata": {},
   "outputs": [
    {
     "data": {
      "text/plain": [
       "[2,\n",
       " 125,\n",
       " 19,\n",
       " 0,\n",
       " 12,\n",
       " 187,\n",
       " 43,\n",
       " 0,\n",
       " 227,\n",
       " 197,\n",
       " 150,\n",
       " 31,\n",
       " 322,\n",
       " 121,\n",
       " 7,\n",
       " 191,\n",
       " 3,\n",
       " 169,\n",
       " 84,\n",
       " 72,\n",
       " 2,\n",
       " 34,\n",
       " 16,\n",
       " 21,\n",
       " 1,\n",
       " 0,\n",
       " 1,\n",
       " 33,\n",
       " 0,\n",
       " 34,\n",
       " 4,\n",
       " 288,\n",
       " 37,\n",
       " 5,\n",
       " 199,\n",
       " 13,\n",
       " 207,\n",
       " 35,\n",
       " 66,\n",
       " 161,\n",
       " 32,\n",
       " 22,\n",
       " 105,\n",
       " 1,\n",
       " 19,\n",
       " 166,\n",
       " 232,\n",
       " 1,\n",
       " 2,\n",
       " 4,\n",
       " 18,\n",
       " 137,\n",
       " 94,\n",
       " 2,\n",
       " 30,\n",
       " 182,\n",
       " 15,\n",
       " 2,\n",
       " 172,\n",
       " 866,\n",
       " 23,\n",
       " 111,\n",
       " 143,\n",
       " 5,\n",
       " 226,\n",
       " 129,\n",
       " 4,\n",
       " 53,\n",
       " 93,\n",
       " 32,\n",
       " 322,\n",
       " 44,\n",
       " 25,\n",
       " 150,\n",
       " 3,\n",
       " 84,\n",
       " 75,\n",
       " 10,\n",
       " 34,\n",
       " 76,\n",
       " 100,\n",
       " 5,\n",
       " 183,\n",
       " 26,\n",
       " 64,\n",
       " 135,\n",
       " 107,\n",
       " 168,\n",
       " 44,\n",
       " 23,\n",
       " 294,\n",
       " 205,\n",
       " 24,\n",
       " 4,\n",
       " 83,\n",
       " 1,\n",
       " 87,\n",
       " 3,\n",
       " 20,\n",
       " 1,\n",
       " 142,\n",
       " 0,\n",
       " 0,\n",
       " 72,\n",
       " 37,\n",
       " 3,\n",
       " 320,\n",
       " 2,\n",
       " 29,\n",
       " 17,\n",
       " 0,\n",
       " 89,\n",
       " 130,\n",
       " 261]"
      ]
     },
     "execution_count": 99,
     "metadata": {},
     "output_type": "execute_result"
    }
   ],
   "source": [
    "r"
   ]
  },
  {
   "cell_type": "code",
   "execution_count": 98,
   "metadata": {
    "scrolled": true
   },
   "outputs": [
    {
     "data": {
      "text/plain": [
       "56235"
      ]
     },
     "execution_count": 98,
     "metadata": {},
     "output_type": "execute_result"
    }
   ],
   "source": [
    "sum(np.isnan(y_data.flatten()))"
   ]
  },
  {
   "cell_type": "code",
   "execution_count": 63,
   "metadata": {
    "collapsed": true
   },
   "outputs": [],
   "source": [
    "\n",
    "x_data = np.array([get_rec(session).df['X center (cm)'] for session in avail])\n",
    "y_data = np.array([get_rec(session).df['Y center (cm)'] for session in avail])"
   ]
  },
  {
   "cell_type": "code",
   "execution_count": 12,
   "metadata": {
    "collapsed": true
   },
   "outputs": [],
   "source": [
    "def get_rec(session):\n",
    "    return [rec for rec in data_2013 if rec.fn.split('_')[1].split('.')[0]==str(session)][0]"
   ]
  },
  {
   "cell_type": "code",
   "execution_count": 13,
   "metadata": {
    "collapsed": true
   },
   "outputs": [],
   "source": [
    "#load data for each feature (column)\n",
    "x_data = np.array([[get_rec(session).df['X center (cm)'] for session in rat] for rat in coords_2013])\n",
    "y_data = np.array([[get_rec(session).df['Y center (cm)'] for session in rat] for rat in coords_2013])\n",
    "area_data = np.array([[get_rec(session).df['Area (cm²)'] for session in rat] for rat in coords_2013])\n",
    "areachange_data = np.array([[get_rec(session).df['Areachange (cm²)'] for session in rat] for rat in coords_2013])\n",
    "elongation_data = np.array([[get_rec(session).df['Elongation'] for session in rat] for rat in coords_2013])\n",
    "direction_data = np.array([[get_rec(session).df['Direction (deg)'] for session in rat] for rat in coords_2013])\n",
    "time_offset_data = np.array([[get_rec(session).df['Trial time (s)'][1] for session in rat] for rat in coords_2013])\n",
    "#change order to a more logical one\n",
    "treatment_data = ['qs']*6 + ['qm3']*7 + ['qm1']*8 + ['ss']*5"
   ]
  },
  {
   "cell_type": "code",
   "execution_count": 14,
   "metadata": {
    "collapsed": true
   },
   "outputs": [],
   "source": [
    "x = xr.DataArray(x_data, dims=['rat','session','time'], coords=[rats,sessions,times])\n",
    "y = xr.DataArray(y_data, dims=['rat','session','time'], coords=[rats,sessions,times])\n",
    "area = xr.DataArray(area_data, dims=['rat','session','time'], coords=[rats,sessions,times])\n",
    "areachange = xr.DataArray(areachange_data, dims=['rat','session','time'], coords=[rats,sessions,times])\n",
    "elongation = xr.DataArray(elongation_data, dims=['rat','session','time'], coords=[rats,sessions,times])\n",
    "direction = xr.DataArray(direction_data, dims=['rat','session','time'], coords=[rats,sessions,times])\n",
    "treatment = xr.DataArray(treatment_data, dims=['rat'], coords=[rats])\n",
    "trial = xr.DataArray(coords_2013, dims=['rat','session'], coords=[rats,sessions])\n",
    "time_offset = xr.DataArray(time_offset_data, dims=['rat','session'], coords=[rats,sessions])"
   ]
  },
  {
   "cell_type": "code",
   "execution_count": 15,
   "metadata": {
    "collapsed": true
   },
   "outputs": [],
   "source": [
    "data_vars = {'x': x, 'y': y, 'area': area, 'areachange': areachange, 'elongation': elongation, 'direction': direction, 'time_offset': time_offset}\n",
    "coords = {'treatment': treatment, 'trial': trial}\n",
    "attrs = {'dataset': '2013'}\n",
    "\n",
    "ds = xr.Dataset(data_vars, coords, attrs)\n",
    "\n",
    "# set treatment order\n",
    "treatment_order = ['ss','qs','qm1','qm3']\n",
    "treatment_index = sorted(ds.rat.values,key=lambda r: (treatment_order.index(ds.treatment.sel(rat=r)),r))\n",
    "ds = ds.reindex(rat=treatment_index)"
   ]
  },
  {
   "cell_type": "code",
   "execution_count": 54,
   "metadata": {},
   "outputs": [
    {
     "data": {
      "text/plain": [
       "[<matplotlib.lines.Line2D at 0x7fb3c4209898>]"
      ]
     },
     "execution_count": 54,
     "metadata": {},
     "output_type": "execute_result"
    },
    {
     "data": {
      "image/png": "[encoded data removed]",
      "text/plain": [
       "<matplotlib.figure.Figure at 0x7fb3cc0e62e8>"
      ]
     },
     "metadata": {},
     "output_type": "display_data"
    }
   ],
   "source": [
    "ds.isel(rat=3,session=0).isnull().y.plot()"
   ]
  },
  {
   "cell_type": "code",
   "execution_count": 16,
   "metadata": {
    "collapsed": true
   },
   "outputs": [],
   "source": [
    "#encoding = {var:{'zlib': True} for var in itertools.chain(ds.coords,ds.data_vars)}\n",
    "#ds.to_netcdf('../xarray/2013.nc', encoding=encoding, engine='netcdf4', format='netCDF4')\n",
    "import datasets\n",
    "datasets.save(ds,'2013',overwrite=True)"
   ]
  },
  {
   "cell_type": "code",
   "execution_count": 11,
   "metadata": {
    "collapsed": true
   },
   "outputs": [],
   "source": [
    "#ds = xr.open_dataset('../xarray/2013.nc')"
   ]
  },
  {
   "cell_type": "code",
   "execution_count": null,
   "metadata": {
    "collapsed": true
   },
   "outputs": [],
   "source": []
  },
  {
   "cell_type": "code",
   "execution_count": 12,
   "metadata": {
    "collapsed": true
   },
   "outputs": [],
   "source": [
    "# Example usage\n",
    "import datetime"
   ]
  },
  {
   "cell_type": "code",
   "execution_count": 13,
   "metadata": {},
   "outputs": [
    {
     "data": {
      "text/plain": [
       "<xarray.Dataset>\n",
       "Dimensions:      (rat: 6, time: 45001)\n",
       "Coordinates:\n",
       "  * rat          (rat) <U2 '28' '29' '30' '31' '32' '33'\n",
       "    session      <U5 'week1'\n",
       "  * time         (time) timedelta64[ns] 00:00:00 00:00:00.040000 ...\n",
       "    treatment    (rat) <U3 'qs' 'qs' 'qs' 'qs' 'qs' 'qs'\n",
       "    trial        (rat) <U3 '304' '305' '306' '307' '308' '309'\n",
       "Data variables:\n",
       "    x            (rat, time) float64 101.4 98.62 92.81 86.04 71.93 62.49 ...\n",
       "    y            (rat, time) float64 10.81 7.634 8.795 9.383 5.508 4.686 ...\n",
       "    area         (rat, time) float64 75.69 226.6 279.2 262.2 142.9 152.6 ...\n",
       "    areachange   (rat, time) float64 nan 154.4 225.3 265.1 314.1 218.0 184.1 ...\n",
       "    elongation   (rat, time) float64 0.4467 0.4351 0.359 0.7425 0.5876 ...\n",
       "    direction    (rat, time) float64 -53.55 109.4 -72.12 7.891 36.87 -7.04 ...\n",
       "    time_offset  (rat) float64 2.36 2.4 2.0 2.36 2.2 2.48\n",
       "Attributes:\n",
       "    dataset: 2013"
      ]
     },
     "execution_count": 13,
     "metadata": {},
     "output_type": "execute_result"
    }
   ],
   "source": [
    "# all sessions from week 1 for rats with treatment qns/saline\n",
    "ds.sel(rat=ds.treatment=='qs', session='week1')"
   ]
  },
  {
   "cell_type": "code",
   "execution_count": 14,
   "metadata": {},
   "outputs": [
    {
     "data": {
      "text/plain": [
       "<xarray.Dataset>\n",
       "Dimensions:      (session: 3, time: 45001)\n",
       "Coordinates:\n",
       "    rat          <U2 '50'\n",
       "  * session      (session) <U5 'week1' 'week2' 'week3'\n",
       "  * time         (time) timedelta64[ns] 00:00:00 00:00:00.040000 ...\n",
       "    treatment    <U2 'ss'\n",
       "    trial        (session) <U3 '326' '355' '386'\n",
       "Data variables:\n",
       "    x            (session, time) float64 96.12 96.48 97.23 100.6 100.8 99.87 ...\n",
       "    y            (session, time) float64 -26.22 -27.0 -28.71 -11.28 -33.72 ...\n",
       "    area         (session, time) float64 27.81 39.69 62.34 73.39 134.3 220.4 ...\n",
       "    areachange   (session, time) float64 nan 12.98 26.7 135.7 207.7 354.6 ...\n",
       "    elongation   (session, time) float64 0.1384 0.1729 0.4803 0.2726 0.7683 ...\n",
       "    direction    (session, time) float64 135.0 135.0 118.1 46.63 -73.8 57.37 ...\n",
       "    time_offset  (session) float64 2.48 2.76 0.04\n",
       "Attributes:\n",
       "    dataset: 2013"
      ]
     },
     "execution_count": 14,
     "metadata": {},
     "output_type": "execute_result"
    }
   ],
   "source": [
    "# select rat with index 0\n",
    "ds.isel(rat=0)"
   ]
  },
  {
   "cell_type": "code",
   "execution_count": 15,
   "metadata": {
    "scrolled": true
   },
   "outputs": [
    {
     "name": "stderr",
     "output_type": "stream",
     "text": [
      "/usr/lib/python3.6/site-packages/xarray/core/variable.py:1130: RuntimeWarning: invalid value encountered in greater\n",
      "  if not reflexive\n"
     ]
    },
    {
     "data": {
      "text/plain": [
       "<xarray.Dataset>\n",
       "Dimensions:      (rat: 9, session: 3, time: 45001)\n",
       "Coordinates:\n",
       "  * rat          (rat) <U2 '50' '53' '28' '29' '30' '33' '36' '37' '39'\n",
       "  * session      (session) <U5 'week1' 'week2' 'week3'\n",
       "  * time         (time) timedelta64[ns] 00:00:00 00:00:00.040000 ...\n",
       "    treatment    (rat) <U3 'ss' 'ss' 'qs' 'qs' 'qs' 'qs' 'qm3' 'qm3' 'qm3'\n",
       "    trial        (rat, session) <U3 '326' '355' '386' '329' '358' '389' ...\n",
       "Data variables:\n",
       "    x            (rat, session, time) float64 96.12 96.48 97.23 100.6 100.8 ...\n",
       "    y            (rat, session, time) float64 -26.22 -27.0 -28.71 -11.28 ...\n",
       "    area         (rat, session, time) float64 27.81 39.69 62.34 73.39 134.3 ...\n",
       "    areachange   (rat, session, time) float64 nan 12.98 26.7 135.7 207.7 ...\n",
       "    elongation   (rat, session, time) float64 0.1384 0.1729 0.4803 0.2726 ...\n",
       "    direction    (rat, session, time) float64 135.0 135.0 118.1 46.63 -73.8 ...\n",
       "    time_offset  (rat, session) float64 2.48 2.76 0.04 2.2 2.52 1.76 2.36 ...\n",
       "Attributes:\n",
       "    dataset: 2013"
      ]
     },
     "execution_count": 15,
     "metadata": {},
     "output_type": "execute_result"
    }
   ],
   "source": [
    "# select rats where x is ever greater than 104\n",
    "ds.sel(rat=(ds.x > 104).any(dim=('session','time')))"
   ]
  },
  {
   "cell_type": "code",
   "execution_count": 16,
   "metadata": {},
   "outputs": [
    {
     "data": {
      "text/plain": [
       "<xarray.Dataset>\n",
       "Dimensions:      (rat: 26, session: 3, time: 1501)\n",
       "Coordinates:\n",
       "  * rat          (rat) <U2 '50' '51' '52' '53' '54' '28' '29' '30' '31' '32' ...\n",
       "  * session      (session) <U5 'week1' 'week2' 'week3'\n",
       "  * time         (time) timedelta64[ns] 00:01:00 00:01:00.040000 ...\n",
       "    treatment    (rat) <U3 'ss' 'ss' 'ss' 'ss' 'ss' 'qs' 'qs' 'qs' 'qs' 'qs' ...\n",
       "    trial        (rat, session) <U3 '326' '355' '386' '327' '356' '387' ...\n",
       "Data variables:\n",
       "    x            (rat, session, time) float64 -54.39 -52.83 -51.16 -49.25 ...\n",
       "    y            (rat, session, time) float64 30.94 27.64 24.01 20.67 16.51 ...\n",
       "    area         (rat, session, time) float64 116.9 118.4 126.8 121.6 121.6 ...\n",
       "    areachange   (rat, session, time) float64 54.05 54.88 59.58 60.68 61.7 ...\n",
       "    elongation   (rat, session, time) float64 0.7744 0.8001 0.8179 0.7925 ...\n",
       "    direction    (rat, session, time) float64 -63.02 -64.11 -68.73 -64.8 ...\n",
       "    time_offset  (rat, session) float64 2.48 2.76 0.04 2.68 3.04 2.2 2.68 ...\n",
       "Attributes:\n",
       "    dataset: 2013"
      ]
     },
     "execution_count": 16,
     "metadata": {},
     "output_type": "execute_result"
    }
   ],
   "source": [
    "# select all datapoints between 1 and 2 minutes\n",
    "ds.sel(time=slice(datetime.timedelta(minutes=1), datetime.timedelta(minutes=2)))"
   ]
  },
  {
   "cell_type": "code",
   "execution_count": 17,
   "metadata": {},
   "outputs": [
    {
     "name": "stderr",
     "output_type": "stream",
     "text": [
      "/usr/lib/python3.6/site-packages/xarray/core/variable.py:1130: RuntimeWarning: invalid value encountered in greater\n",
      "  if not reflexive\n",
      "/usr/lib/python3.6/site-packages/xarray/core/variable.py:1130: RuntimeWarning: invalid value encountered in less\n",
      "  if not reflexive\n"
     ]
    },
    {
     "data": {
      "text/plain": [
       "<xarray.Dataset>\n",
       "Dimensions:      (rat: 26, session: 3, time: 643)\n",
       "Coordinates:\n",
       "  * rat          (rat) <U2 '50' '51' '52' '53' '54' '28' '29' '30' '31' '32' ...\n",
       "  * session      (session) <U5 'week1' 'week2' 'week3'\n",
       "  * time         (time) timedelta64[ns] 00:00:01.280000 00:00:01.320000 ...\n",
       "    treatment    (rat) <U3 'ss' 'ss' 'ss' 'ss' 'ss' 'qs' 'qs' 'qs' 'qs' 'qs' ...\n",
       "    trial        (rat, session) <U3 '326' '355' '386' '327' '356' '387' ...\n",
       "Data variables:\n",
       "    x            (rat, session, time) float64 74.79 88.4 99.55 99.71 100.4 ...\n",
       "    y            (rat, session, time) float64 -29.49 -35.04 -14.87 4.441 ...\n",
       "    area         (rat, session, time) float64 127.7 151.9 213.0 116.9 104.6 ...\n",
       "    areachange   (rat, session, time) float64 234.6 279.7 364.9 329.9 30.85 ...\n",
       "    elongation   (rat, session, time) float64 0.4485 0.4048 0.4097 0.1132 ...\n",
       "    direction    (rat, session, time) float64 31.58 -53.42 -48.26 -43.08 ...\n",
       "    time_offset  (rat, session) float64 2.48 2.76 0.04 2.68 3.04 2.2 2.68 ...\n",
       "Attributes:\n",
       "    dataset: 2013"
      ]
     },
     "execution_count": 17,
     "metadata": {},
     "output_type": "execute_result"
    }
   ],
   "source": [
    "# select all datapoints within 10 cm of position (0,0) (manhattan distance)\n",
    "d = 10\n",
    "x1,y1,x2,y2 = -d,-d,d,d\n",
    "mask = (x1<ds.x) & (ds.x<x2) & (y1<ds.y) & (ds.y<y2)\n",
    "ds.sel(time=mask.any(dim=('rat','session')))\n",
    "# to get same size ds but with all other values set to nan:\n",
    "# ds.where(mask)"
   ]
  },
  {
   "cell_type": "code",
   "execution_count": 18,
   "metadata": {
    "collapsed": true
   },
   "outputs": [],
   "source": [
    "# rolling window over direction of certain trial\n",
    "trial = ds.isel(rat=0,session=0)\n",
    "r = trial.direction.rolling(time=25,center=True).mean()\n",
    "speed = np.sqrt(trial.x.diff('time')**2 + trial.y.diff('time')**2)/0.04\n",
    "#speed[r.isnull()] = np.nan"
   ]
  },
  {
   "cell_type": "code",
   "execution_count": 19,
   "metadata": {},
   "outputs": [
    {
     "data": {
      "text/plain": [
       "[<matplotlib.lines.Line2D at 0x7f43b28c6940>]"
      ]
     },
     "execution_count": 19,
     "metadata": {},
     "output_type": "execute_result"
    },
    {
     "data": {
      "image/png": "[encoded data removed]",
      "text/plain": [
       "<matplotlib.figure.Figure at 0x7f43b28ef898>"
      ]
     },
     "metadata": {},
     "output_type": "display_data"
    }
   ],
   "source": [
    "pylab.rcParams['figure.figsize'] = (15,15)\n",
    "plt.plot(r.time,r.values)\n",
    "plt.plot(speed.time,speed.values)\n",
    "plt.plot(speed.time,pd.Series(r.values).diff()[1:]*10)"
   ]
  },
  {
   "cell_type": "code",
   "execution_count": 20,
   "metadata": {},
   "outputs": [
    {
     "data": {
      "text/plain": [
       "-0.045603520984669341"
      ]
     },
     "execution_count": 20,
     "metadata": {},
     "output_type": "execute_result"
    }
   ],
   "source": [
    "pd.Series(speed.values).corr(pd.Series(r.values).diff())"
   ]
  },
  {
   "cell_type": "code",
   "execution_count": null,
   "metadata": {
    "collapsed": true
   },
   "outputs": [],
   "source": []
  },
  {
   "cell_type": "code",
   "execution_count": null,
   "metadata": {
    "collapsed": true
   },
   "outputs": [],
   "source": []
  },
  {
   "cell_type": "code",
   "execution_count": null,
   "metadata": {
    "collapsed": true
   },
   "outputs": [],
   "source": []
  },
  {
   "cell_type": "code",
   "execution_count": null,
   "metadata": {
    "collapsed": true
   },
   "outputs": [],
   "source": []
  },
  {
   "cell_type": "code",
   "execution_count": null,
   "metadata": {
    "collapsed": true
   },
   "outputs": [],
   "source": []
  },
  {
   "cell_type": "code",
   "execution_count": null,
   "metadata": {
    "collapsed": true
   },
   "outputs": [],
   "source": []
  },
  {
   "cell_type": "code",
   "execution_count": null,
   "metadata": {
    "collapsed": true
   },
   "outputs": [],
   "source": []
  },
  {
   "cell_type": "code",
   "execution_count": null,
   "metadata": {
    "collapsed": true
   },
   "outputs": [],
   "source": []
  }
 ],
 "metadata": {
  "kernelspec": {
   "display_name": "Python 3",
   "language": "python",
   "name": "python3"
  },
  "language_info": {
   "codemirror_mode": {
    "name": "ipython",
    "version": 3
   },
   "file_extension": ".py",
   "mimetype": "text/x-python",
   "name": "python",
   "nbconvert_exporter": "python",
   "pygments_lexer": "ipython3",
   "version": "3.6.1"
  }
 },
 "nbformat": 4,
 "nbformat_minor": 2
}
