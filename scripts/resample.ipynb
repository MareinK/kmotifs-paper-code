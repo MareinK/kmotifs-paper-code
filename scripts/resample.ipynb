{
 "cells": [
  {
   "cell_type": "markdown",
   "metadata": {},
   "source": [
    "While most datasets are sampled at 25 'frames' per second, the 'Utrecht' dataset is sampled at a different rate, so it needed to be resampled. In the end the 'Utrecht' dataset was not used in the thesis because of its small size and large number of issues."
   ]
  },
  {
   "cell_type": "code",
   "execution_count": 2,
   "metadata": {
    "collapsed": true
   },
   "outputs": [],
   "source": [
    "import collections, os\n",
    "import pandas as pd"
   ]
  },
  {
   "cell_type": "code",
   "execution_count": 3,
   "metadata": {},
   "outputs": [],
   "source": [
    "Recording = collections.namedtuple('Recording',['fn','df']) # filename and dataframe \n",
    "def load_data(dirpath):\n",
    "    dfs = []\n",
    "    for root, _, filenames in os.walk(dirpath):\n",
    "        for filename in filenames:\n",
    "            filepath = os.path.join(root,filename)\n",
    "            nxt = pd.read_csv(filepath,index_col=0,compression='gzip')\n",
    "            dfs.append(Recording(filename,nxt))\n",
    "    return dfs"
   ]
  },
  {
   "cell_type": "code",
   "execution_count": 41,
   "metadata": {
    "collapsed": true
   },
   "outputs": [],
   "source": [
    "# load all files from data_clean directory into a list of DataFrames\n",
    "data = load_data('../data_clean')"
   ]
  },
  {
   "cell_type": "code",
   "execution_count": 42,
   "metadata": {
    "collapsed": true
   },
   "outputs": [],
   "source": [
    "data_utrecht = [rec for rec in data if rec.fn.startswith('utrecht')]"
   ]
  },
  {
   "cell_type": "code",
   "execution_count": 65,
   "metadata": {},
   "outputs": [],
   "source": [
    "def resample(rec):\n",
    "    df = rec.df.copy()\n",
    "    df.index = pd.TimedeltaIndex(df['Trial time (s)'],'s')\n",
    "    return Recording(rec.fn,df.resample('40ms').interpolate()[:45001])"
   ]
  },
  {
   "cell_type": "code",
   "execution_count": 66,
   "metadata": {},
   "outputs": [],
   "source": [
    "data_utrecht_resampled = list(map(resample,data_utrecht))"
   ]
  },
  {
   "cell_type": "code",
   "execution_count": 67,
   "metadata": {},
   "outputs": [
    {
     "data": {
      "text/plain": [
       "[45001, 45001, 45001, 45001, 45001, 45001, 45001, 45001, 45001, 45001, 45001]"
      ]
     },
     "execution_count": 67,
     "metadata": {},
     "output_type": "execute_result"
    }
   ],
   "source": [
    "[len(df) for fn,df in data_utrecht_resampled]"
   ]
  },
  {
   "cell_type": "code",
   "execution_count": 69,
   "metadata": {},
   "outputs": [],
   "source": [
    "for fn,df in data_utrecht_resampled:\n",
    "    filepath = os.path.join('..','data_clean',fn.split('.')[0]+'_resampled'+'.csv.gz')\n",
    "    df.to_csv(filepath,compression='gzip')"
   ]
  },
  {
   "cell_type": "code",
   "execution_count": null,
   "metadata": {},
   "outputs": [],
   "source": []
  },
  {
   "cell_type": "code",
   "execution_count": null,
   "metadata": {
    "collapsed": true
   },
   "outputs": [],
   "source": []
  },
  {
   "cell_type": "code",
   "execution_count": null,
   "metadata": {
    "collapsed": true
   },
   "outputs": [],
   "source": []
  },
  {
   "cell_type": "code",
   "execution_count": null,
   "metadata": {
    "collapsed": true
   },
   "outputs": [],
   "source": []
  }
 ],
 "metadata": {
  "kernelspec": {
   "display_name": "Python 3",
   "language": "python",
   "name": "python3"
  },
  "language_info": {
   "codemirror_mode": {
    "name": "ipython",
    "version": 3
   },
   "file_extension": ".py",
   "mimetype": "text/x-python",
   "name": "python",
   "nbconvert_exporter": "python",
   "pygments_lexer": "ipython3",
   "version": "3.6.1"
  }
 },
 "nbformat": 4,
 "nbformat_minor": 2
}
