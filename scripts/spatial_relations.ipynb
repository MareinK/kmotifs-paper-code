{
 "cells": [
  {
   "cell_type": "markdown",
   "metadata": {},
   "source": [
    "Calculation of the spatial relations based on a dataset."
   ]
  },
  {
   "cell_type": "code",
   "execution_count": 1,
   "metadata": {
    "collapsed": true
   },
   "outputs": [],
   "source": [
    "%matplotlib inline\n",
    "\n",
    "import math\n",
    "\n",
    "import matplotlib.pyplot as plt\n",
    "import numpy as np\n",
    "import xarray as xr\n",
    "\n",
    "import datasets"
   ]
  },
  {
   "cell_type": "code",
   "execution_count": 2,
   "metadata": {
    "collapsed": true
   },
   "outputs": [],
   "source": [
    "ds_2014 = datasets.load('2014_segments')\n",
    "ds_xy = ds_2014[['x', 'y']]\n",
    "datasets.save(ds_xy, '2014_xy', overwrite=True)"
   ]
  },
  {
   "cell_type": "code",
   "execution_count": 3,
   "metadata": {
    "collapsed": true
   },
   "outputs": [],
   "source": [
    "def object_dist(ds, obj, i):\n",
    "    return ((ds.to_array(name=f'objdist_{i}').T - obj)**2).sum('variable')**0.5\n",
    "def min_object_dist(ds):\n",
    "    arrays = [object_dist(ds, obj, i) for i,obj in enumerate(ds.objects)]\n",
    "    return xr.merge(arrays).to_array('dist_object', name='dist_object').min('dist_object')"
   ]
  },
  {
   "cell_type": "code",
   "execution_count": 4,
   "metadata": {
    "collapsed": true
   },
   "outputs": [],
   "source": [
    "def line_dist(ds, line, i):\n",
    "    l2 = sum((line[0]-line[1])**2)\n",
    "    if l2 == 0:\n",
    "        return object_dist(ds, line[0], i)\n",
    "    da = ds.to_array(name=f'linedist_{i}').T\n",
    "    t = np.dot(da-line[0], line[1] - line[0]) / l2\n",
    "    projection = (line[0] + np.outer(t, (line[1] - line[0]))).reshape(da.shape)\n",
    "    return ((da-projection)**2).sum('variable')**0.5\n",
    "def min_line_dist(ds):\n",
    "    boundary = np.concatenate((ds.boundary[-1:],ds.boundary))\n",
    "    lines = [boundary[i:i+2] for i in range(len(ds.boundary))]\n",
    "    arrays = [line_dist(ds, line, i) for i,line in enumerate(lines)]\n",
    "    return xr.merge(arrays).to_array('dist_boundary', name='dist_boundary').min('dist_boundary')"
   ]
  },
  {
   "cell_type": "code",
   "execution_count": 5,
   "metadata": {
    "collapsed": true
   },
   "outputs": [],
   "source": [
    "def absolute_position(ds):\n",
    "    return ds.to_array('component', name='pos_abs').T\n",
    "def relative_position(ds):\n",
    "    return ds.diff('time').to_array('component', name='pos_rel').T"
   ]
  },
  {
   "cell_type": "code",
   "execution_count": 15,
   "metadata": {
    "collapsed": true
   },
   "outputs": [],
   "source": [
    "def spatial_relations(ds):\n",
    "    pos_abs = absolute_position(ds)\n",
    "    pos_rel = relative_position(ds)\n",
    "    dist_object = min_object_dist(ds)\n",
    "    dist_boundary = min_line_dist(ds)\n",
    "    r = xr.merge([pos_abs, pos_rel, dist_object, dist_boundary])\n",
    "    return r"
   ]
  },
  {
   "cell_type": "code",
   "execution_count": 16,
   "metadata": {
    "collapsed": true
   },
   "outputs": [],
   "source": [
    "ds_sr = spatial_relations(ds_xy)\n",
    "datasets.save(ds_sr, '2014_spatrel', overwrite=True)"
   ]
  },
  {
   "cell_type": "code",
   "execution_count": 17,
   "metadata": {},
   "outputs": [
    {
     "data": {
      "text/plain": [
       "<xarray.Dataset>\n",
       "Dimensions:        (component: 2, segment: 240, time: 15000)\n",
       "Coordinates:\n",
       "  * time           (time) timedelta64[ns] 00:00:00 00:00:00.040000 ...\n",
       "    rat            (segment) object '110' '110' '110' '110' '110' '110' ...\n",
       "    trial          (segment) object '5' '5' '5' '17' '17' '17' '29' '29' ...\n",
       "    treatment      (segment) object 's' 's' 's' 's' 's' 's' 's' 's' 's' 's' ...\n",
       "    part           (segment) int64 0 1 2 0 1 2 0 1 2 0 1 2 0 1 2 0 1 2 0 1 2 ...\n",
       "    session        (segment) object 'injection1' 'injection1' 'injection1' ...\n",
       "  * component      (component) <U1 'x' 'y'\n",
       "Dimensions without coordinates: segment\n",
       "Data variables:\n",
       "    pos_abs        (segment, time, component) float64 -3.408 2.523 -3.288 ...\n",
       "    pos_rel        (segment, time, component) float64 nan nan 0.1204 0.2022 ...\n",
       "    dist_object    (segment, time) float64 42.22 42.0 41.73 41.4 41.05 40.73 ...\n",
       "    dist_boundary  (segment, time) float64 71.01 71.12 71.26 71.5 71.77 ..."
      ]
     },
     "execution_count": 17,
     "metadata": {},
     "output_type": "execute_result"
    }
   ],
   "source": [
    "ds_sr"
   ]
  },
  {
   "cell_type": "code",
   "execution_count": null,
   "metadata": {
    "collapsed": true
   },
   "outputs": [],
   "source": []
  }
 ],
 "metadata": {
  "kernelspec": {
   "display_name": "Python 3",
   "language": "python",
   "name": "python3"
  },
  "language_info": {
   "codemirror_mode": {
    "name": "ipython",
    "version": 3
   },
   "file_extension": ".py",
   "mimetype": "text/x-python",
   "name": "python",
   "nbconvert_exporter": "python",
   "pygments_lexer": "ipython3",
   "version": "3.6.1"
  }
 },
 "nbformat": 4,
 "nbformat_minor": 2
}
