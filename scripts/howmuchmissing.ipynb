{
 "cells": [
  {
   "cell_type": "markdown",
   "metadata": {},
   "source": [
    "Calculate the amount of missing values in datasets (section Data Preparation in thesis)."
   ]
  },
  {
   "cell_type": "code",
   "execution_count": 1,
   "metadata": {
    "collapsed": true
   },
   "outputs": [],
   "source": [
    "%matplotlib inline\n",
    "\n",
    "import matplotlib.pyplot as plt\n",
    "import numpy as np\n",
    "\n",
    "import datasets"
   ]
  },
  {
   "cell_type": "code",
   "execution_count": 2,
   "metadata": {
    "collapsed": true
   },
   "outputs": [],
   "source": [
    "ds = datasets.load('2013')"
   ]
  },
  {
   "cell_type": "code",
   "execution_count": 95,
   "metadata": {},
   "outputs": [
    {
     "data": {
      "text/plain": [
       "<bound method _func_slash_method_wrapper.<locals>.func of <xarray.DataArray 'y' (rat: 26, session: 3, time: 45001)>\n",
       "[3510078 values with dtype=float64]\n",
       "Coordinates:\n",
       "  * rat        (rat) object '50' '51' '52' '53' '54' '28' '29' '30' '31' ...\n",
       "  * session    (session) object 'week1' 'week2' 'week3'\n",
       "  * time       (time) timedelta64[ns] 00:00:00 00:00:00.040000 ...\n",
       "    treatment  (rat) object 'ss' 'ss' 'ss' 'ss' 'ss' 'qs' 'qs' 'qs' 'qs' ...\n",
       "    trial      (rat, session) object '326' '355' '386' '327' '356' '387' ...>"
      ]
     },
     "execution_count": 95,
     "metadata": {},
     "output_type": "execute_result"
    }
   ],
   "source": [
    "ds.y.isnull"
   ]
  },
  {
   "cell_type": "code",
   "execution_count": null,
   "metadata": {
    "collapsed": true
   },
   "outputs": [],
   "source": []
  },
  {
   "cell_type": "code",
   "execution_count": 99,
   "metadata": {},
   "outputs": [
    {
     "data": {
      "text/plain": [
       "866"
      ]
     },
     "execution_count": 99,
     "metadata": {},
     "output_type": "execute_result"
    }
   ],
   "source": [
    "r = []\n",
    "for x in ds.x.data.reshape(ds.x.data.shape[0]*ds.x.data.shape[1],-1):\n",
    "    a = x.flatten()\n",
    "    mask = np.concatenate(([False],np.isnan(a),[False]))\n",
    "    if ~mask.any():\n",
    "        r.append(0)\n",
    "    else:\n",
    "        idx = np.nonzero(mask[1:] != mask[:-1])[0]\n",
    "        r.append((idx[1::2] - idx[::2]).max())\n",
    "max(r)"
   ]
  },
  {
   "cell_type": "code",
   "execution_count": 100,
   "metadata": {},
   "outputs": [
    {
     "data": {
      "text/plain": [
       "35358"
      ]
     },
     "execution_count": 100,
     "metadata": {},
     "output_type": "execute_result"
    }
   ],
   "source": [
    "np.isnan(ds.x.data.flatten()).sum()"
   ]
  },
  {
   "cell_type": "code",
   "execution_count": null,
   "metadata": {
    "collapsed": true
   },
   "outputs": [],
   "source": []
  },
  {
   "cell_type": "code",
   "execution_count": 37,
   "metadata": {},
   "outputs": [
    {
     "name": "stdout",
     "output_type": "stream",
     "text": [
      "4\n",
      "5\n",
      "6\n",
      "7\n",
      "8\n",
      "9\n",
      "10\n",
      "12\n",
      "16\n",
      "17\n",
      "18\n",
      "19\n",
      "20\n",
      "21\n",
      "22\n",
      "24\n",
      "28\n",
      "29\n",
      "30\n",
      "31\n",
      "32\n",
      "33\n",
      "34\n",
      "36\n",
      "40\n",
      "41\n",
      "42\n",
      "43\n",
      "44\n",
      "45\n",
      "46\n",
      "48\n",
      "52\n",
      "53\n",
      "54\n",
      "55\n",
      "56\n",
      "57\n",
      "58\n",
      "60\n",
      "64\n",
      "65\n",
      "66\n",
      "67\n",
      "68\n",
      "69\n",
      "70\n",
      "72\n",
      "76\n",
      "77\n",
      "78\n",
      "79\n",
      "80\n",
      "81\n",
      "82\n",
      "84\n",
      "88\n",
      "89\n",
      "90\n",
      "91\n",
      "92\n",
      "93\n",
      "94\n",
      "96\n",
      "100\n",
      "101\n",
      "102\n",
      "103\n",
      "104\n",
      "105\n",
      "106\n",
      "108\n",
      "112\n",
      "113\n",
      "114\n",
      "115\n",
      "116\n",
      "117\n",
      "118\n",
      "120\n"
     ]
    }
   ],
   "source": [
    "for trial in sorted(ds.trial.data.flatten(),key=int):\n",
    "    print(trial)"
   ]
  },
  {
   "cell_type": "code",
   "execution_count": 53,
   "metadata": {},
   "outputs": [
    {
     "data": {
      "text/plain": [
       "'s & s & s & q & q & q & q & q'"
      ]
     },
     "execution_count": 53,
     "metadata": {},
     "output_type": "execute_result"
    }
   ],
   "source": [
    "' & '.join([str(ds.sel(rat=rat).treatment.data) for rat in ds.rat.data])"
   ]
  },
  {
   "cell_type": "code",
   "execution_count": 54,
   "metadata": {},
   "outputs": [
    {
     "data": {
      "text/plain": [
       "<xarray.DataArray 'session' (session: 10)>\n",
       "array(['injection1', 'injection2', 'injection3', 'injection4', 'injection5',\n",
       "       'injection6', 'injection7', 'injection8', 'injection9', 'injection10'], dtype=object)\n",
       "Coordinates:\n",
       "  * session  (session) object 'injection1' 'injection2' 'injection3' ..."
      ]
     },
     "execution_count": 54,
     "metadata": {},
     "output_type": "execute_result"
    }
   ],
   "source": [
    "ds.session"
   ]
  },
  {
   "cell_type": "code",
   "execution_count": 69,
   "metadata": {},
   "outputs": [
    {
     "name": "stdout",
     "output_type": "stream",
     "text": [
      "4 16 28 40 52 64 76 88 100 112 \n",
      "5 17 29 41 53 65 77 89 101 113 \n",
      "6 18 30 42 54 66 78 90 102 114 \n",
      "7 19 31 43 55 67 79 91 103 115 \n",
      "8 20 32 44 56 68 80 92 104 116 \n",
      "9 21 33 45 57 69 81 93 105 117 \n",
      "10 22 34 46 58 70 82 94 106 118 \n",
      "12 24 36 48 60 72 84 96 108 120 \n"
     ]
    }
   ],
   "source": [
    "for rat in sorted(ds.rat.data,key=int):\n",
    "    for session in sorted(ds.session.data,key=lambda x:int(x[9:])):\n",
    "        x = ds.sel(rat=rat,session=session).trial\n",
    "        print(x.data,end=' ')\n",
    "    print()"
   ]
  },
  {
   "cell_type": "code",
   "execution_count": 72,
   "metadata": {
    "collapsed": true
   },
   "outputs": [],
   "source": [
    "coords_2014 = np.array([\n",
    "    ['4', '16', '28', '40', '52', '64', '76', '88', '100', '112'],\n",
    "    ['5', '17', '29', '41', '53', '65', '77', '89', '101', '113'],\n",
    "    ['6', '18', '30', '42', '54', '66', '78', '90', '102', '114'],\n",
    "    ['7', '19', '31', '43', '55', '67', '79', '91', '103', '115'],\n",
    "    ['8', '20', '32', '44', '56', '68', '80', '92', '104', '116'],\n",
    "    ['9', '21', '33', '45', '57', '69', '81', '93', '105', '117'],\n",
    "    ['10', '22', '34', '46', '58', '70', '82', '94', '106', '118'],\n",
    "    ['12', '24', '36', '48', '60', '72', '84', '96', '108', '120']\n",
    "]).T"
   ]
  },
  {
   "cell_type": "code",
   "execution_count": 82,
   "metadata": {},
   "outputs": [
    {
     "name": "stdout",
     "output_type": "stream",
     "text": [
      "s1 & 4 & 5 & 6 & 7 & 8 & 9 & 10 & 12 \\\\\n",
      "s2 & 16 & 17 & 18 & 19 & 20 & 21 & 22 & 24 \\\\\n",
      "s3 & 28 & 29 & 30 & 31 & 32 & 33 & 34 & 36 \\\\\n",
      "s4 & 40 & 41 & 42 & 43 & 44 & 45 & 46 & 48 \\\\\n",
      "s5 & 52 & 53 & 54 & 55 & 56 & 57 & 58 & 60 \\\\\n",
      "s6 & 64 & 65 & 66 & 67 & 68 & 69 & 70 & 72 \\\\\n",
      "s7 & 76 & 77 & 78 & 79 & 80 & 81 & 82 & 84 \\\\\n",
      "s8 & 88 & 89 & 90 & 91 & 92 & 93 & 94 & 96 \\\\\n",
      "s9 & 100 & 101 & 102 & 103 & 104 & 105 & 106 & 108 \\\\\n",
      "s10 & 112 & 113 & 114 & 115 & 116 & 117 & 118 & 120 \\\\\n"
     ]
    }
   ],
   "source": [
    "for i,x in enumerate(coords_2014,1):\n",
    "    print(f's{i} & '+' & '.join(x)+' \\\\\\\\')"
   ]
  },
  {
   "cell_type": "code",
   "execution_count": null,
   "metadata": {
    "collapsed": true
   },
   "outputs": [],
   "source": []
  },
  {
   "cell_type": "code",
   "execution_count": 4,
   "metadata": {
    "collapsed": true
   },
   "outputs": [],
   "source": [
    "ds13 = datasets.load('2013')\n",
    "ds14 = datasets.load('2014')"
   ]
  },
  {
   "cell_type": "code",
   "execution_count": null,
   "metadata": {
    "collapsed": true
   },
   "outputs": [],
   "source": []
  },
  {
   "cell_type": "code",
   "execution_count": 88,
   "metadata": {},
   "outputs": [
    {
     "data": {
      "text/plain": [
       "<xarray.Dataset>\n",
       "Dimensions:      (rat: 26, session: 3, time: 45001)\n",
       "Coordinates:\n",
       "  * rat          (rat) object '50' '51' '52' '53' '54' '28' '29' '30' '31' ...\n",
       "  * session      (session) object 'week1' 'week2' 'week3'\n",
       "  * time         (time) timedelta64[ns] 00:00:00 00:00:00.040000 ...\n",
       "    treatment    (rat) object 'ss' 'ss' 'ss' 'ss' 'ss' 'qs' 'qs' 'qs' 'qs' ...\n",
       "    trial        (rat, session) object '326' '355' '386' '327' '356' '387' ...\n",
       "Data variables:\n",
       "    area         (rat, session, time) float64 27.81 39.69 62.34 73.39 134.3 ...\n",
       "    areachange   (rat, session, time) float64 nan 12.98 26.7 135.7 207.7 ...\n",
       "    direction    (rat, session, time) float64 135.0 135.0 118.1 46.63 -73.8 ...\n",
       "    elongation   (rat, session, time) float64 0.1384 0.1729 0.4803 0.2726 ...\n",
       "    time_offset  (rat, session) float64 2.48 2.76 0.04 2.68 3.04 2.2 2.68 ...\n",
       "    x            (rat, session, time) float64 96.12 96.48 97.23 100.6 100.8 ...\n",
       "    y            (rat, session, time) float64 -26.22 -27.0 -28.71 -11.28 ...\n",
       "Attributes:\n",
       "    dataset:  2013"
      ]
     },
     "execution_count": 88,
     "metadata": {},
     "output_type": "execute_result"
    }
   ],
   "source": [
    "ds13.trial == "
   ]
  },
  {
   "cell_type": "code",
   "execution_count": null,
   "metadata": {
    "collapsed": true
   },
   "outputs": [],
   "source": []
  },
  {
   "cell_type": "code",
   "execution_count": null,
   "metadata": {
    "collapsed": true
   },
   "outputs": [],
   "source": []
  },
  {
   "cell_type": "code",
   "execution_count": null,
   "metadata": {
    "collapsed": true
   },
   "outputs": [],
   "source": []
  },
  {
   "cell_type": "code",
   "execution_count": null,
   "metadata": {
    "collapsed": true
   },
   "outputs": [],
   "source": []
  },
  {
   "cell_type": "code",
   "execution_count": null,
   "metadata": {
    "collapsed": true
   },
   "outputs": [],
   "source": []
  },
  {
   "cell_type": "code",
   "execution_count": 82,
   "metadata": {
    "scrolled": true
   },
   "outputs": [
    {
     "name": "stderr",
     "output_type": "stream",
     "text": [
      "/usr/lib/python3.6/site-packages/xarray/core/variable.py:1164: RuntimeWarning: invalid value encountered in greater\n",
      "  if not reflexive\n"
     ]
    },
    {
     "data": {
      "text/plain": [
       "<xarray.DataArray ()>\n",
       "array(29294)"
      ]
     },
     "execution_count": 82,
     "metadata": {},
     "output_type": "execute_result"
    }
   ],
   "source": [
    "((ds13.x.diff('time')**2+ds13.y.diff('time')**2)**0.5 > 2).sum()"
   ]
  },
  {
   "cell_type": "code",
   "execution_count": 10,
   "metadata": {
    "collapsed": true
   },
   "outputs": [],
   "source": [
    "diff13 = (ds13.x.diff('time')**2+ds13.y.diff('time')**2)**0.5\n",
    "diff14 = (ds14.x.diff('time')**2+ds14.y.diff('time')**2)**0.5"
   ]
  },
  {
   "cell_type": "code",
   "execution_count": 16,
   "metadata": {},
   "outputs": [
    {
     "data": {
      "text/plain": [
       "array([  0.86483964,   1.8656571 ,  17.75582104, ...,   0.02623833,\n",
       "         0.05713423,   0.07276215])"
      ]
     },
     "execution_count": 16,
     "metadata": {},
     "output_type": "execute_result"
    }
   ],
   "source": [
    "diff13.data.flatten()"
   ]
  },
  {
   "cell_type": "code",
   "execution_count": 85,
   "metadata": {
    "scrolled": true
   },
   "outputs": [
    {
     "name": "stderr",
     "output_type": "stream",
     "text": [
      "/usr/lib/python3.6/site-packages/xarray/core/variable.py:1164: RuntimeWarning: invalid value encountered in greater\n",
      "  if not reflexive\n"
     ]
    },
    {
     "data": {
      "text/plain": [
       "<xarray.DataArray ()>\n",
       "array(0.010576353276353277)"
      ]
     },
     "execution_count": 85,
     "metadata": {},
     "output_type": "execute_result"
    }
   ],
   "source": [
    "(diff13 > diff13.mean() + 2 * diff13.std()).sum()/diff13.size"
   ]
  },
  {
   "cell_type": "code",
   "execution_count": 86,
   "metadata": {},
   "outputs": [
    {
     "name": "stderr",
     "output_type": "stream",
     "text": [
      "/usr/lib/python3.6/site-packages/xarray/core/variable.py:1164: RuntimeWarning: invalid value encountered in greater\n",
      "  if not reflexive\n"
     ]
    },
    {
     "data": {
      "text/plain": [
       "<xarray.DataArray ()>\n",
       "array(0.05395869908220183)"
      ]
     },
     "execution_count": 86,
     "metadata": {},
     "output_type": "execute_result"
    }
   ],
   "source": [
    "(diff14 > diff14.mean() + 2 * diff14.std()).sum()/diff14.size"
   ]
  },
  {
   "cell_type": "code",
   "execution_count": 47,
   "metadata": {},
   "outputs": [
    {
     "data": {
      "text/plain": [
       "<xarray.DataArray (rat: 26, session: 3, time: 45000)>\n",
       "array([[[  0.86484 ,   1.865657, ...,   0.052562,   0.076194],\n",
       "        [  2.917967,   3.364639, ...,   0.064713,   0.067724],\n",
       "        [       nan,        nan, ...,   0.081252,   0.309008]],\n",
       "\n",
       "       [[  2.770207,   5.053282, ...,   0.09039 ,   0.056922],\n",
       "        [  2.945572,   5.318961, ...,   0.221107,   0.223458],\n",
       "        [  3.925882,  10.259297, ...,   0.147686,   0.135453]],\n",
       "\n",
       "       ..., \n",
       "       [[  5.245693,   8.046254, ...,   0.046325,   0.011921],\n",
       "        [  3.770109,   4.99057 , ...,   0.111169,   0.098098],\n",
       "        [  4.547678,        nan, ...,   0.017135,   0.011325]],\n",
       "\n",
       "       [[  4.855694,   6.995924, ...,   0.030417,   0.098959],\n",
       "        [  3.056382,   3.050872, ...,   0.017066,   0.372763],\n",
       "        [  3.427167,   4.428842, ...,   0.057134,   0.072762]]])\n",
       "Coordinates:\n",
       "  * rat        (rat) object '50' '51' '52' '53' '54' '28' '29' '30' '31' ...\n",
       "  * session    (session) object 'week1' 'week2' 'week3'\n",
       "  * time       (time) timedelta64[ns] 00:00:00.040000 00:00:00.080000 ...\n",
       "    treatment  (rat) object 'ss' 'ss' 'ss' 'ss' 'ss' 'qs' 'qs' 'qs' 'qs' ...\n",
       "    trial      (rat, session) object '326' '355' '386' '327' '356' '387' ..."
      ]
     },
     "execution_count": 47,
     "metadata": {},
     "output_type": "execute_result"
    }
   ],
   "source": [
    "diff13"
   ]
  },
  {
   "cell_type": "code",
   "execution_count": 48,
   "metadata": {},
   "outputs": [
    {
     "data": {
      "text/plain": [
       "<xarray.Dataset>\n",
       "Dimensions:      (rat: 26, session: 3, time: 45001)\n",
       "Coordinates:\n",
       "  * rat          (rat) object '50' '51' '52' '53' '54' '28' '29' '30' '31' ...\n",
       "  * session      (session) object 'week1' 'week2' 'week3'\n",
       "  * time         (time) timedelta64[ns] 00:00:00 00:00:00.040000 ...\n",
       "    treatment    (rat) object 'ss' 'ss' 'ss' 'ss' 'ss' 'qs' 'qs' 'qs' 'qs' ...\n",
       "    trial        (rat, session) object '326' '355' '386' '327' '356' '387' ...\n",
       "Data variables:\n",
       "    area         (rat, session, time) float64 27.81 39.69 62.34 73.39 134.3 ...\n",
       "    areachange   (rat, session, time) float64 nan 12.98 26.7 135.7 207.7 ...\n",
       "    direction    (rat, session, time) float64 135.0 135.0 118.1 46.63 -73.8 ...\n",
       "    elongation   (rat, session, time) float64 0.1384 0.1729 0.4803 0.2726 ...\n",
       "    time_offset  (rat, session) float64 2.48 2.76 0.04 2.68 3.04 2.2 2.68 ...\n",
       "    x            (rat, session, time) float64 96.12 96.48 97.23 100.6 100.8 ...\n",
       "    y            (rat, session, time) float64 -26.22 -27.0 -28.71 -11.28 ...\n",
       "Attributes:\n",
       "    dataset:  2013"
      ]
     },
     "execution_count": 48,
     "metadata": {},
     "output_type": "execute_result"
    }
   ],
   "source": [
    "ds13"
   ]
  },
  {
   "cell_type": "code",
   "execution_count": 3,
   "metadata": {
    "collapsed": true
   },
   "outputs": [],
   "source": [
    "dists = np.sqrt(ds.x.diff('time')**2 + ds.y.diff('time')**2)"
   ]
  },
  {
   "cell_type": "code",
   "execution_count": 4,
   "metadata": {},
   "outputs": [
    {
     "data": {
      "text/plain": [
       "<xarray.DataArray ()>\n",
       "array(206.51865562965492)"
      ]
     },
     "execution_count": 4,
     "metadata": {},
     "output_type": "execute_result"
    }
   ],
   "source": [
    "dists.max()"
   ]
  },
  {
   "cell_type": "code",
   "execution_count": null,
   "metadata": {
    "collapsed": true
   },
   "outputs": [],
   "source": []
  },
  {
   "cell_type": "code",
   "execution_count": 90,
   "metadata": {
    "collapsed": true
   },
   "outputs": [],
   "source": [
    "speed = 9.6/60/60/25*1000*100"
   ]
  },
  {
   "cell_type": "code",
   "execution_count": 71,
   "metadata": {
    "collapsed": true
   },
   "outputs": [],
   "source": [
    "import seaborn as sns"
   ]
  },
  {
   "cell_type": "code",
   "execution_count": 81,
   "metadata": {
    "collapsed": true
   },
   "outputs": [],
   "source": [
    "ds = datasets.load('2013')"
   ]
  },
  {
   "cell_type": "code",
   "execution_count": 82,
   "metadata": {
    "scrolled": true
   },
   "outputs": [
    {
     "data": {
      "image/png": "[encoded data removed]",
      "text/plain": [
       "<matplotlib.figure.Figure at 0x7fc3aeffa7f0>"
      ]
     },
     "metadata": {},
     "output_type": "display_data"
    }
   ],
   "source": [
    "dists = np.sqrt(ds.x.diff('time')**2 + ds.y.diff('time')**2)\n",
    "df = dists.data.flatten()\n",
    "df = df[~np.isnan(df)]\n",
    "ax = sns.distplot(df)\n",
    "ax.set_yscale('log')"
   ]
  },
  {
   "cell_type": "code",
   "execution_count": 83,
   "metadata": {
    "collapsed": true
   },
   "outputs": [],
   "source": [
    "x = (df > speed).sum()"
   ]
  },
  {
   "cell_type": "code",
   "execution_count": 84,
   "metadata": {
    "scrolled": false
   },
   "outputs": [
    {
     "data": {
      "text/plain": [
       "(808, 0.023261926703626642)"
      ]
     },
     "execution_count": 84,
     "metadata": {},
     "output_type": "execute_result"
    }
   ],
   "source": [
    "x, x/len(df)*100"
   ]
  },
  {
   "cell_type": "code",
   "execution_count": 85,
   "metadata": {},
   "outputs": [
    {
     "data": {
      "text/plain": [
       "0.67393179174705575"
      ]
     },
     "execution_count": 85,
     "metadata": {},
     "output_type": "execute_result"
    }
   ],
   "source": [
    "df.var()"
   ]
  },
  {
   "cell_type": "code",
   "execution_count": 86,
   "metadata": {
    "collapsed": true
   },
   "outputs": [],
   "source": [
    "ds = datasets.load('2014')\n",
    "dists = np.sqrt(ds.x.diff('time')**2 + ds.y.diff('time')**2)\n",
    "df = dists.data.flatten()\n",
    "df = df[~np.isnan(df)]\n",
    "x = (df > speed).sum()"
   ]
  },
  {
   "cell_type": "code",
   "execution_count": 87,
   "metadata": {},
   "outputs": [
    {
     "data": {
      "text/plain": [
       "(93, 0.0025836261442963534)"
      ]
     },
     "execution_count": 87,
     "metadata": {},
     "output_type": "execute_result"
    }
   ],
   "source": [
    "x, x/len(df)*100"
   ]
  },
  {
   "cell_type": "code",
   "execution_count": 88,
   "metadata": {},
   "outputs": [
    {
     "data": {
      "text/plain": [
       "0.40720991277863222"
      ]
     },
     "execution_count": 88,
     "metadata": {},
     "output_type": "execute_result"
    }
   ],
   "source": [
    "df.var()"
   ]
  },
  {
   "cell_type": "code",
   "execution_count": 89,
   "metadata": {},
   "outputs": [
    {
     "data": {
      "image/png": "[encoded data removed]",
      "text/plain": [
       "<matplotlib.figure.Figure at 0x7fc3ae657048>"
      ]
     },
     "metadata": {},
     "output_type": "display_data"
    }
   ],
   "source": [
    "ax = sns.distplot(df)\n",
    "ax.set_yscale('log')"
   ]
  },
  {
   "cell_type": "code",
   "execution_count": null,
   "metadata": {
    "collapsed": true
   },
   "outputs": [],
   "source": []
  },
  {
   "cell_type": "code",
   "execution_count": null,
   "metadata": {
    "collapsed": true
   },
   "outputs": [],
   "source": []
  },
  {
   "cell_type": "code",
   "execution_count": null,
   "metadata": {
    "collapsed": true
   },
   "outputs": [],
   "source": []
  },
  {
   "cell_type": "code",
   "execution_count": null,
   "metadata": {
    "collapsed": true
   },
   "outputs": [],
   "source": []
  }
 ],
 "metadata": {
  "kernelspec": {
   "display_name": "Python 3",
   "language": "python",
   "name": "python3"
  },
  "language_info": {
   "codemirror_mode": {
    "name": "ipython",
    "version": 3
   },
   "file_extension": ".py",
   "mimetype": "text/x-python",
   "name": "python",
   "nbconvert_exporter": "python",
   "pygments_lexer": "ipython3",
   "version": "3.6.1"
  }
 },
 "nbformat": 4,
 "nbformat_minor": 2
}
